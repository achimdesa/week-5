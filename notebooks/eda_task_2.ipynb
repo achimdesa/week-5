{
 "cells": [
  {
   "cell_type": "code",
   "execution_count": 4,
   "metadata": {},
   "outputs": [],
   "source": [
    "# eda_task_2.ipynb\n",
    "\n",
    "import sys\n",
    "import os\n",
    "\n",
    "# Add the parent directory to sys.path\n",
    "sys.path.append(os.path.abspath('../scripts'))\n",
    "\n",
    "from labeling import load_data, label_data, save_conll_format\n"
   ]
  },
  {
   "cell_type": "code",
   "execution_count": 5,
   "metadata": {},
   "outputs": [
    {
     "name": "stdout",
     "output_type": "stream",
     "text": [
      "Sample data:\n",
      "         Channel Title    Channel Username    ID  \\\n",
      "0  Sheger online-store  @Shageronlinestore  5328   \n",
      "1  Sheger online-store  @Shageronlinestore  5327   \n",
      "2  Sheger online-store  @Shageronlinestore  5326   \n",
      "3  Sheger online-store  @Shageronlinestore  5325   \n",
      "4  Sheger online-store  @Shageronlinestore  5323   \n",
      "\n",
      "                                             Message  \\\n",
      "0  ??3pcs silicon brush spatulas\\n\\n???? 260°c ??...   \n",
      "1  ??Mandoline Slicer\\n\\n?? ?? ??? ???? ????? \\n?...   \n",
      "2  ??Table Desk Edge Guard Strip\\n       ?? High ...   \n",
      "3  ??Table Desk Edge Guard Strip\\n       ?? High ...   \n",
      "4  ??Only baby 3in1 double bottle milk warmer,ste...   \n",
      "\n",
      "                        Date                          Media Path  \\\n",
      "0  2024-09-20 11:50:02+00:00  photos/@Shageronlinestore_5328.jpg   \n",
      "1  2024-09-20 08:11:40+00:00                                 NaN   \n",
      "2  2024-09-20 05:23:18+00:00                                 NaN   \n",
      "3  2024-09-20 05:21:14+00:00  photos/@Shageronlinestore_5325.jpg   \n",
      "4  2024-09-19 13:54:46+00:00  photos/@Shageronlinestore_5323.jpg   \n",
      "\n",
      "                                     cleaned_message  \n",
      "0  3 pcs silicon brush spatulas 260 c 550 1 SL 05...  \n",
      "1  Mandoline Slicer 1200 1 SL 05 A 2 2 214 097361...  \n",
      "2  Table Desk Edge Guard Strip High Quality Made ...  \n",
      "3  Table Desk Edge Guard Strip High Quality Made ...  \n",
      "4  Only baby 3 in 1 double bottle milk warmerster...  \n"
     ]
    }
   ],
   "source": [
    "\n",
    "# Step 1: Load the cleaned Telegram data\n",
    "file_path = '../data/cleaned_telegram_data_new.csv'  \n",
    "data = load_data(file_path)\n",
    "\n",
    "# Step 2: Display a few samples\n",
    "print(\"Sample data:\")\n",
    "print(data.head())\n",
    "\n"
   ]
  },
  {
   "cell_type": "code",
   "execution_count": 6,
   "metadata": {},
   "outputs": [],
   "source": [
    "# Step 3: Perform labeling \n",
    "labeled_data = label_data(data)\n"
   ]
  },
  {
   "cell_type": "code",
   "execution_count": 8,
   "metadata": {},
   "outputs": [
    {
     "name": "stdout",
     "output_type": "stream",
     "text": [
      "Labeled data saved to ../data/labeled_telegram_data.conll\n"
     ]
    }
   ],
   "source": [
    "\n",
    "# Step 4: Save the labeled data in CoNLL format\n",
    "conll_output_path = '../data/labeled_telegram_data.conll'\n",
    "save_conll_format(labeled_data, conll_output_path)\n",
    "\n",
    "print(f\"Labeled data saved to {conll_output_path}\")\n"
   ]
  }
 ],
 "metadata": {
  "kernelspec": {
   "display_name": "w5venv",
   "language": "python",
   "name": "python3"
  },
  "language_info": {
   "codemirror_mode": {
    "name": "ipython",
    "version": 3
   },
   "file_extension": ".py",
   "mimetype": "text/x-python",
   "name": "python",
   "nbconvert_exporter": "python",
   "pygments_lexer": "ipython3",
   "version": "3.12.8"
  }
 },
 "nbformat": 4,
 "nbformat_minor": 2
}
