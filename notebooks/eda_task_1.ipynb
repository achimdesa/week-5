{
 "cells": [
  {
   "cell_type": "code",
   "execution_count": 4,
   "metadata": {},
   "outputs": [],
   "source": [
    "# eda_task_1.ipynb\n",
    "import sys\n",
    "import os\n",
    "\n",
    "# Add the parent directory to sys.path\n",
    "sys.path.append(os.path.abspath('../scripts'))\n",
    "\n",
    "# Import necessary modules\n",
    "import pandas as pd\n",
    "from preprocess_data import process_telegram_data\n",
    "import data_visualization"
   ]
  },
  {
   "cell_type": "code",
   "execution_count": 2,
   "metadata": {},
   "outputs": [
    {
     "name": "stdout",
     "output_type": "stream",
     "text": [
      "Processed data saved to ../data/cleaned_telegram_data_new.csv\n"
     ]
    }
   ],
   "source": [
    "# Define file paths\n",
    "input_file = '../data/telegram_data.csv'\n",
    "output_file = '../data/cleaned_telegram_data_new.csv'\n",
    "'''\n",
    "import chardet\n",
    "\n",
    "with open(input_file, 'rb') as f:\n",
    "    result = chardet.detect(f.read())\n",
    "    print(result)\n",
    "'''\n",
    "# Process the data\n",
    "process_telegram_data(input_file, output_file)"
   ]
  },
  {
   "cell_type": "code",
   "execution_count": 3,
   "metadata": {},
   "outputs": [
    {
     "data": {
      "text/html": [
       "<div>\n",
       "<style scoped>\n",
       "    .dataframe tbody tr th:only-of-type {\n",
       "        vertical-align: middle;\n",
       "    }\n",
       "\n",
       "    .dataframe tbody tr th {\n",
       "        vertical-align: top;\n",
       "    }\n",
       "\n",
       "    .dataframe thead th {\n",
       "        text-align: right;\n",
       "    }\n",
       "</style>\n",
       "<table border=\"1\" class=\"dataframe\">\n",
       "  <thead>\n",
       "    <tr style=\"text-align: right;\">\n",
       "      <th></th>\n",
       "      <th>Channel Title</th>\n",
       "      <th>Channel Username</th>\n",
       "      <th>ID</th>\n",
       "      <th>Message</th>\n",
       "      <th>Date</th>\n",
       "      <th>Media Path</th>\n",
       "      <th>cleaned_message</th>\n",
       "    </tr>\n",
       "  </thead>\n",
       "  <tbody>\n",
       "    <tr>\n",
       "      <th>0</th>\n",
       "      <td>Sheger online-store</td>\n",
       "      <td>@Shageronlinestore</td>\n",
       "      <td>5328</td>\n",
       "      <td>??3pcs silicon brush spatulas\\n\\n???? 260°c ??...</td>\n",
       "      <td>2024-09-20 11:50:02+00:00</td>\n",
       "      <td>photos/@Shageronlinestore_5328.jpg</td>\n",
       "      <td>3 pcs silicon brush spatulas 260 c 550 1 SL 05...</td>\n",
       "    </tr>\n",
       "    <tr>\n",
       "      <th>1</th>\n",
       "      <td>Sheger online-store</td>\n",
       "      <td>@Shageronlinestore</td>\n",
       "      <td>5327</td>\n",
       "      <td>??Mandoline Slicer\\n\\n?? ?? ??? ???? ????? \\n?...</td>\n",
       "      <td>2024-09-20 08:11:40+00:00</td>\n",
       "      <td>NaN</td>\n",
       "      <td>Mandoline Slicer 1200 1 SL 05 A 2 2 214 097361...</td>\n",
       "    </tr>\n",
       "    <tr>\n",
       "      <th>2</th>\n",
       "      <td>Sheger online-store</td>\n",
       "      <td>@Shageronlinestore</td>\n",
       "      <td>5326</td>\n",
       "      <td>??Table Desk Edge Guard Strip\\n       ?? High ...</td>\n",
       "      <td>2024-09-20 05:23:18+00:00</td>\n",
       "      <td>NaN</td>\n",
       "      <td>Table Desk Edge Guard Strip High Quality Made ...</td>\n",
       "    </tr>\n",
       "    <tr>\n",
       "      <th>3</th>\n",
       "      <td>Sheger online-store</td>\n",
       "      <td>@Shageronlinestore</td>\n",
       "      <td>5325</td>\n",
       "      <td>??Table Desk Edge Guard Strip\\n       ?? High ...</td>\n",
       "      <td>2024-09-20 05:21:14+00:00</td>\n",
       "      <td>photos/@Shageronlinestore_5325.jpg</td>\n",
       "      <td>Table Desk Edge Guard Strip High Quality Made ...</td>\n",
       "    </tr>\n",
       "    <tr>\n",
       "      <th>4</th>\n",
       "      <td>Sheger online-store</td>\n",
       "      <td>@Shageronlinestore</td>\n",
       "      <td>5323</td>\n",
       "      <td>??Only baby 3in1 double bottle milk warmer,ste...</td>\n",
       "      <td>2024-09-19 13:54:46+00:00</td>\n",
       "      <td>photos/@Shageronlinestore_5323.jpg</td>\n",
       "      <td>Only baby 3 in 1 double bottle milk warmerster...</td>\n",
       "    </tr>\n",
       "  </tbody>\n",
       "</table>\n",
       "</div>"
      ],
      "text/plain": [
       "         Channel Title    Channel Username    ID  \\\n",
       "0  Sheger online-store  @Shageronlinestore  5328   \n",
       "1  Sheger online-store  @Shageronlinestore  5327   \n",
       "2  Sheger online-store  @Shageronlinestore  5326   \n",
       "3  Sheger online-store  @Shageronlinestore  5325   \n",
       "4  Sheger online-store  @Shageronlinestore  5323   \n",
       "\n",
       "                                             Message  \\\n",
       "0  ??3pcs silicon brush spatulas\\n\\n???? 260°c ??...   \n",
       "1  ??Mandoline Slicer\\n\\n?? ?? ??? ???? ????? \\n?...   \n",
       "2  ??Table Desk Edge Guard Strip\\n       ?? High ...   \n",
       "3  ??Table Desk Edge Guard Strip\\n       ?? High ...   \n",
       "4  ??Only baby 3in1 double bottle milk warmer,ste...   \n",
       "\n",
       "                        Date                          Media Path  \\\n",
       "0  2024-09-20 11:50:02+00:00  photos/@Shageronlinestore_5328.jpg   \n",
       "1  2024-09-20 08:11:40+00:00                                 NaN   \n",
       "2  2024-09-20 05:23:18+00:00                                 NaN   \n",
       "3  2024-09-20 05:21:14+00:00  photos/@Shageronlinestore_5325.jpg   \n",
       "4  2024-09-19 13:54:46+00:00  photos/@Shageronlinestore_5323.jpg   \n",
       "\n",
       "                                     cleaned_message  \n",
       "0  3 pcs silicon brush spatulas 260 c 550 1 SL 05...  \n",
       "1  Mandoline Slicer 1200 1 SL 05 A 2 2 214 097361...  \n",
       "2  Table Desk Edge Guard Strip High Quality Made ...  \n",
       "3  Table Desk Edge Guard Strip High Quality Made ...  \n",
       "4  Only baby 3 in 1 double bottle milk warmerster...  "
      ]
     },
     "execution_count": 3,
     "metadata": {},
     "output_type": "execute_result"
    }
   ],
   "source": [
    "\n",
    "# Load the cleaned data for inspection\n",
    "cleaned_data = pd.read_csv(output_file)\n",
    "cleaned_data.head()\n"
   ]
  },
  {
   "cell_type": "code",
   "execution_count": 8,
   "metadata": {},
   "outputs": [
    {
     "ename": "NameError",
     "evalue": "name 'df' is not defined",
     "output_type": "error",
     "traceback": [
      "\u001b[1;31m---------------------------------------------------------------------------\u001b[0m",
      "\u001b[1;31mNameError\u001b[0m                                 Traceback (most recent call last)",
      "Cell \u001b[1;32mIn[8], line 3\u001b[0m\n\u001b[0;32m      1\u001b[0m \u001b[38;5;66;03m# Example: Plot histograms for numerical columns\u001b[39;00m\n\u001b[0;32m      2\u001b[0m \u001b[38;5;28;01mfrom\u001b[39;00m\u001b[38;5;250m \u001b[39m\u001b[38;5;21;01mdata_visualization\u001b[39;00m\u001b[38;5;250m \u001b[39m\u001b[38;5;28;01mimport\u001b[39;00m generate_basic_stats, plot_message_length_distribution, plot_message_over_time, generate_word_cloud\n\u001b[1;32m----> 3\u001b[0m df \u001b[38;5;241m=\u001b[39m cleaned_data(\u001b[43mdf\u001b[49m)\n\u001b[0;32m      4\u001b[0m generate_basic_stats(df)\n",
      "\u001b[1;31mNameError\u001b[0m: name 'df' is not defined"
     ]
    }
   ],
   "source": [
    "# Example: Plot histograms for numerical columns\n",
    "from data_visualization import generate_basic_stats, plot_message_length_distribution, plot_message_over_time, generate_word_cloud\n",
    "df = cleaned_data(df)\n",
    "generate_basic_stats(df)\n"
   ]
  },
  {
   "cell_type": "code",
   "execution_count": 9,
   "metadata": {},
   "outputs": [],
   "source": [
    "def generate_basic_stats(df):\n",
    "    \"\"\"Generate basic statistics for the dataframe.\"\"\"\n",
    "    return df.describe()"
   ]
  },
  {
   "cell_type": "code",
   "execution_count": 14,
   "metadata": {},
   "outputs": [],
   "source": [
    "df = pd.read_csv('../data/cleaned_telegram_data_new.csv')\n",
    "print(df.head()) \n",
    "def plot_message_length_distribution(df):\n",
    "    \"\"\"Plot the distribution of message lengths.\"\"\"\n",
    "    df['Message Length'] = df['Cleaned_Message'].apply(lambda x: len(str(x)))\n",
    "    plt.figure(figsize=(10, 6))\n",
    "    sns.histplot(df['Message Length'], bins=50, color='blue')\n",
    "    plt.title('Distribution of Cleaned Message Lengths')\n",
    "    plt.xlabel('Message Length')\n",
    "    plt.ylabel('Frequency')\n",
    "    plt.show()\n",
    "\n",
    "    print(plot_message_length_distribution)"
   ]
  }
 ],
 "metadata": {
  "kernelspec": {
   "display_name": "w5venv",
   "language": "python",
   "name": "python3"
  },
  "language_info": {
   "codemirror_mode": {
    "name": "ipython",
    "version": 3
   },
   "file_extension": ".py",
   "mimetype": "text/x-python",
   "name": "python",
   "nbconvert_exporter": "python",
   "pygments_lexer": "ipython3",
   "version": "3.12.8"
  }
 },
 "nbformat": 4,
 "nbformat_minor": 2
}
